{
 "cells": [
  {
   "cell_type": "markdown",
   "id": "da4e216e",
   "metadata": {},
   "source": [
    "## Fiyat Tahmini ve Eğitilen Modelin Kaydedilmesi"
   ]
  },
  {
   "cell_type": "code",
   "execution_count": 1,
   "id": "7d947914",
   "metadata": {},
   "outputs": [],
   "source": [
    "import pandas as pd\n",
    "import matplotlib.pyplot as plt\n",
    "from sklearn import linear_model\n",
    "\n"
   ]
  },
  {
   "cell_type": "code",
   "execution_count": 2,
   "id": "47a4e5e5",
   "metadata": {},
   "outputs": [],
   "source": [
    "# df = pd.read_csv(\"multilinearregression.csv\", sep=';')\n",
    "# df"
   ]
  },
  {
   "cell_type": "code",
   "execution_count": 3,
   "id": "5ec837c0",
   "metadata": {},
   "outputs": [],
   "source": [
    "# Linear Regression Modeli\n",
    "\n",
    "# reg = linear_model.LinearRegression()\n",
    "# reg.fit(df[['alan', 'odasayisi', 'binayasi']], df['fiyat'])\n",
    "\n",
    "# Prediction \n",
    "\n",
    "# reg.predict([[230,4,10]]) # 230m^2,4oda,Bina yasi=10"
   ]
  },
  {
   "cell_type": "code",
   "execution_count": 4,
   "id": "78e75064",
   "metadata": {},
   "outputs": [],
   "source": [
    "import pickle"
   ]
  },
  {
   "cell_type": "code",
   "execution_count": 5,
   "id": "0f644431",
   "metadata": {},
   "outputs": [],
   "source": [
    "my_model = pickle.load(open(\"evfiyattahmini_model.pickle\", 'rb'))"
   ]
  },
  {
   "cell_type": "code",
   "execution_count": 7,
   "id": "4e4dd501",
   "metadata": {},
   "outputs": [
    {
     "data": {
      "text/plain": [
       "array([530243.29284619])"
      ]
     },
     "execution_count": 7,
     "metadata": {},
     "output_type": "execute_result"
    }
   ],
   "source": [
    "my_model.predict([[230,4,10]])"
   ]
  },
  {
   "cell_type": "code",
   "execution_count": 9,
   "id": "d7130739",
   "metadata": {},
   "outputs": [
    {
     "data": {
      "text/plain": [
       "array([530243.29284619, 586097.7833456 , 646445.10541334])"
      ]
     },
     "execution_count": 9,
     "metadata": {},
     "output_type": "execute_result"
    }
   ],
   "source": [
    "my_model.predict([[230,4,10],[230,6,0],[355,5,20]])"
   ]
  },
  {
   "cell_type": "code",
   "execution_count": null,
   "id": "8c02e310",
   "metadata": {},
   "outputs": [],
   "source": [
    "model_file = \"evfiyattahmini_model.pickle\""
   ]
  },
  {
   "cell_type": "code",
   "execution_count": null,
   "id": "35faad37",
   "metadata": {},
   "outputs": [],
   "source": [
    "pickle.dump(reg, open(model_file, 'wb')) # wb: open for writing and open in binary mode anlamına gelir"
   ]
  },
  {
   "cell_type": "code",
   "execution_count": null,
   "id": "65efdd19",
   "metadata": {},
   "outputs": [],
   "source": []
  },
  {
   "cell_type": "markdown",
   "id": "71bad08a",
   "metadata": {},
   "source": [
    "#### 230 m^2, 6 oda, bina yaşı = 0 olan ev için fiyat tahmini"
   ]
  },
  {
   "cell_type": "code",
   "execution_count": null,
   "id": "8e9ff2f2",
   "metadata": {},
   "outputs": [],
   "source": [
    "reg.predict([[230,6,0]])"
   ]
  },
  {
   "cell_type": "markdown",
   "id": "b2548e20",
   "metadata": {},
   "source": [
    "##### 355 m2, 3 oda , bina yaşı=20 olan ev için fiyat tahmini"
   ]
  },
  {
   "cell_type": "code",
   "execution_count": null,
   "id": "27558efc",
   "metadata": {},
   "outputs": [],
   "source": [
    "reg.predict([[355,3,20]])"
   ]
  },
  {
   "cell_type": "markdown",
   "id": "c4c6ef77",
   "metadata": {},
   "source": [
    "### Toplu tahmin"
   ]
  },
  {
   "cell_type": "code",
   "execution_count": null,
   "id": "fc6b2673",
   "metadata": {},
   "outputs": [],
   "source": [
    "reg.predict([[230,4,10],[230,6,0],[355,3,20]])"
   ]
  },
  {
   "cell_type": "code",
   "execution_count": null,
   "id": "201bc48a",
   "metadata": {},
   "outputs": [],
   "source": [
    "reg.coef_"
   ]
  },
  {
   "cell_type": "code",
   "execution_count": null,
   "id": "6f1e8141",
   "metadata": {},
   "outputs": [],
   "source": [
    "reg.intercept_"
   ]
  },
  {
   "cell_type": "code",
   "execution_count": null,
   "id": "48f78f39",
   "metadata": {},
   "outputs": [],
   "source": [
    "# Multiple Linear Regression Formülü \n",
    "\n",
    "a = reg.intercept_\n",
    "b1 = reg.coef_[0]\n",
    "b2 = reg.coef_[1]\n",
    "b3 = reg.coef_[2]\n",
    "\n",
    "x1 = 230\n",
    "x2 = 4\n",
    "x3 = 10\n",
    "\n",
    "y = a+b1*x1+b2*x2+b3*x3\n",
    "\n",
    "y"
   ]
  },
  {
   "cell_type": "code",
   "execution_count": null,
   "id": "a1a33fcf",
   "metadata": {},
   "outputs": [],
   "source": []
  }
 ],
 "metadata": {
  "kernelspec": {
   "display_name": "Python 3 (ipykernel)",
   "language": "python",
   "name": "python3"
  },
  "language_info": {
   "codemirror_mode": {
    "name": "ipython",
    "version": 3
   },
   "file_extension": ".py",
   "mimetype": "text/x-python",
   "name": "python",
   "nbconvert_exporter": "python",
   "pygments_lexer": "ipython3",
   "version": "3.7.11"
  }
 },
 "nbformat": 4,
 "nbformat_minor": 5
}
